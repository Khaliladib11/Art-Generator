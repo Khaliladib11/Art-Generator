{
 "cells": [
  {
   "cell_type": "code",
   "execution_count": 1,
   "id": "9d2069f8",
   "metadata": {},
   "outputs": [],
   "source": [
    "from gan import Interface\n",
    "from gan import GAN\n",
    "from torch.utils.data import DataLoader"
   ]
  },
  {
   "cell_type": "code",
   "execution_count": 2,
   "id": "2174e1ca",
   "metadata": {},
   "outputs": [],
   "source": [
    "interface = Interface('../data/Generated_')\n",
    "loader = DataLoader(interface, 64, True)"
   ]
  },
  {
   "cell_type": "code",
   "execution_count": 3,
   "id": "99620c45",
   "metadata": {},
   "outputs": [],
   "source": [
    "gan = GAN()"
   ]
  },
  {
   "cell_type": "code",
   "execution_count": 4,
   "id": "f32b586a",
   "metadata": {
    "pycharm": {
     "name": "#%%\n"
    }
   },
   "outputs": [],
   "source": [
    "losses_g, losses_d, real_scores, fake_scores = gan.fit(loader, 300, 0.0001)"
   ]
  }
 ],
 "metadata": {
  "kernelspec": {
   "display_name": "Python [conda env:ailab] *",
   "language": "python",
   "name": "conda-env-ailab-py"
  },
  "language_info": {
   "codemirror_mode": {
    "name": "ipython",
    "version": 3
   },
   "file_extension": ".py",
   "mimetype": "text/x-python",
   "name": "python",
   "nbconvert_exporter": "python",
   "pygments_lexer": "ipython3",
   "version": "3.7.11"
  }
 },
 "nbformat": 4,
 "nbformat_minor": 5
}